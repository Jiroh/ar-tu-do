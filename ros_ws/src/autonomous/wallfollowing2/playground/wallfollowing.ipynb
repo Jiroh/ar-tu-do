{
 "nbformat": 4,
 "nbformat_minor": 2,
 "metadata": {
  "language_info": {
   "name": "python",
   "codemirror_mode": {
    "name": "ipython",
    "version": 3
   },
   "version": "3.7.3-final"
  },
  "orig_nbformat": 2,
  "file_extension": ".py",
  "mimetype": "text/x-python",
  "name": "python",
  "npconvert_exporter": "python",
  "pygments_lexer": "ipython3",
  "version": 3,
  "kernelspec": {
   "name": "python37364bitd5f9cec6caaf46a082f83008ecbb7c86",
   "display_name": "Python 3.7.3 64-bit"
  }
 },
 "cells": [
  {
   "cell_type": "code",
   "execution_count": 62,
   "metadata": {},
   "outputs": [],
   "source": [
    "# some imports\n",
    "import math\n",
    "import numpy as np\n",
    "import pandas as pd\n",
    "from math import atan2\n",
    "from collections import namedtuple\n",
    "from circle_fit import hyper_fit"
   ]
  },
  {
   "cell_type": "code",
   "execution_count": 63,
   "metadata": {},
   "outputs": [],
   "source": [
    "# if you have ros installed on your os, you can use rosbag_pandas to import the bag and convert it to a pandas dataframe\n",
    "# https://github.com/eurogroep/rosbag_pandas\n",
    "\n",
    "# import rosbag_pandas\n",
    "# df_include = rosbag_pandas.bag_to_dataframe('samples/first_test/2020-01-15-10-54-28.bag', include=['/scan'])"
   ]
  },
  {
   "cell_type": "code",
   "execution_count": 123,
   "metadata": {},
   "outputs": [],
   "source": [
    "class Parameters():\n",
    "    def __str__(self):\n",
    "        return '\\n'.join(name + \": \" + str(getattr(self, name))\n",
    "                         for name in self.names)\n",
    "\n",
    "# parameters\n",
    "parameters = Parameters()\n",
    "parameters.barrier_size_realtive = 0.1\n",
    "parameters.usable_laser_range = 220.0\n",
    "\n",
    "# what does delta_time do?\n",
    "delta_time = 0\n",
    "# laser_scan csv file to import\n",
    "data = pd.read_csv(\"samples/first_test/bagfile-_scan.csv\")\n",
    "# data point to select form csv file\n",
    "selecetdDatapoint = 42\n",
    "# last fieldnumber of data row\n",
    "lastField = 1080"
   ]
  },
  {
   "cell_type": "code",
   "execution_count": 124,
   "metadata": {},
   "outputs": [],
   "source": [
    "# convert dataframe to the original format\n",
    "row = data.loc[selecetdDatapoint]\n",
    "row.ranges = []\n",
    "row.intensities = []\n",
    "for i in range(lastField+1):\n",
    "    row.ranges.append(row[\"ranges%s\" % i])\n",
    "    row.intensities.append(row[\"intensities%s\" % i])\n",
    "\n",
    "scan_message = row"
   ]
  },
  {
   "cell_type": "code",
   "execution_count": 126,
   "metadata": {},
   "outputs": [],
   "source": [
    "# We need to define our circle\n",
    "\n",
    "Point = namedtuple(\"Point\", [\"x\", \"y\"])\n",
    "\n",
    "class Circle():\n",
    "    def __init__(self, center, radius):\n",
    "        self.center = center\n",
    "        self.radius = radius\n",
    "\n",
    "    def create_array(self, start_angle, end_angle, sample_count=50):\n",
    "        points = np.zeros((sample_count, 2))\n",
    "        angles = np.linspace(start_angle, end_angle, sample_count)\n",
    "        points[:, 0] = self.center.x + np.sin(angles) * self.radius\n",
    "        points[:, 1] = self.center.y + np.cos(angles) * self.radius\n",
    "        return points\n",
    "\n",
    "    def get_angle(self, point):\n",
    "        return atan2(point.x - self.center.x, point.y - self.center.y)\n",
    "\n",
    "    def get_closest_point(self, point):\n",
    "        x = point.x - self.center.x\n",
    "        y = point.y - self.center.y\n",
    "        distance = (x**2 + y**2) ** 0.5\n",
    "        return Point(\n",
    "            self.center.x + x * self.radius / distance,\n",
    "            self.center.y + y * self.radius / distance\n",
    "        )\n",
    "\n",
    "    @staticmethod\n",
    "    def fit(points):\n",
    "        center_x, center_y, radius, _ = hyper_fit(points)\n",
    "        return Circle(Point(center_x, center_y), radius)"
   ]
  },
  {
   "cell_type": "code",
   "execution_count": 3,
   "metadata": {},
   "outputs": [],
   "source": [
    "def get_scan_as_cartesian(laser_scan):\n",
    "    ranges = np.array(laser_scan.ranges)\n",
    "\n",
    "    angles = np.linspace(\n",
    "        laser_scan.angle_min,\n",
    "        laser_scan.angle_max,\n",
    "        ranges.shape[0])\n",
    "\n",
    "    laser_range = laser_scan.angle_max - laser_scan.angle_min\n",
    "    usable_range = math.radians(parameters.usable_laser_range)\n",
    "    if usable_range < laser_range:\n",
    "        skip_left = int((-laser_scan.angle_min - usable_range / 2) / laser_range * ranges.shape[0])\n",
    "        skip_right = int((laser_scan.angle_max - usable_range / 2) / laser_range * ranges.shape[0])\n",
    "        angles = angles[skip_left:-1 - skip_right]\n",
    "        ranges = ranges[skip_left:-1 - skip_right]\n",
    "\n",
    "    inf_mask = np.isinf(ranges)\n",
    "    if inf_mask.any():\n",
    "        ranges = ranges[~inf_mask]\n",
    "        angles = angles[~inf_mask]\n",
    "\n",
    "    points = np.zeros((ranges.shape[0], 2))\n",
    "    points[:, 0] = -np.sin(angles) * ranges\n",
    "    points[:, 1] = np.cos(angles) * ranges\n",
    "\n",
    "    return points"
   ]
  },
  {
   "cell_type": "code",
   "execution_count": 4,
   "metadata": {},
   "outputs": [],
   "source": [
    "def find_left_right_border(points, margin_relative=0.1):\n",
    "    margin = int(points.shape[0] * margin_relative)\n",
    "\n",
    "    relative = points[margin + 1:-margin, :] - points[margin:-margin - 1, :]\n",
    "    distances = np.linalg.norm(relative, axis=1)\n",
    "\n",
    "    return margin + np.argmax(distances) + 1"
   ]
  },
  {
   "cell_type": "code",
   "execution_count": 131,
   "metadata": {},
   "outputs": [],
   "source": [
    "def handle_scan(laser_scan, delta_time):\n",
    "    points = get_scan_as_cartesian(laser_scan)\n",
    "\n",
    "    if points.shape[0] == 0:\n",
    "        print(\"Skipping current laser scan message since it contains no finite values.\")\n",
    "        return\n",
    "\n",
    "    split = find_left_right_border(points)\n",
    "\n",
    "    right_wall = points[:split:4, :]\n",
    "    left_wall = points[split::4, :]\n",
    "\n",
    "    left_circle = Circle.fit(left_wall)\n",
    "    right_circle = Circle.fit(right_wall)\n",
    "\n",
    "    barrier_start = int(points.shape[0] * (0.5 - parameters.barrier_size_realtive))\n",
    "    barrier_end = int(points.shape[0] * (0.5 + parameters.barrier_size_realtive))\n",
    "    barrier = np.max(points[barrier_start: barrier_end, 1])\n",
    "\n",
    "    print(\"follow_walls(%s, %s, %s, %s)\" % (left_circle, right_circle, barrier, delta_time))\n",
    "\n",
    "    print(\"show_circle_in_rviz(%s, %s, %s)\" % (left_circle, left_wall, 0))\n",
    "    print(\"show_circle_in_rviz(%s, %s, %s)\" % (right_circle, right_wall, 1))"
   ]
  },
  {
   "cell_type": "code",
   "execution_count": 132,
   "metadata": {},
   "outputs": [
    {
     "name": "stdout",
     "output_type": "stream",
     "text": "follow_walls(<__main__.Circle object at 0x122b4d358>, <__main__.Circle object at 0x122b4d198>, 3.1684158950919716, 0)\nshow_circle_in_rviz(<__main__.Circle object at 0x122b4d358>, [[-0.48464823  1.07587916]\n [-0.47903671  1.01570315]\n [-0.4851907   0.9838694 ]\n [-0.50045622  0.97169578]\n [-0.51923168  0.96633714]\n [-0.52771096  0.94229572]\n [-0.53097778  0.91048264]\n [-0.50372884  0.83011944]\n [-0.51280356  0.81274446]\n [-0.55103469  0.84046758]\n [-0.54479517  0.80013887]\n [-0.53732217  0.76029328]\n [-0.52803952  0.72015504]\n [-0.52963224  0.69650175]\n [-0.51880073  0.65809559]\n [-0.50996049  0.62416047]\n [-0.51754531  0.61134921]\n [-0.51428972  0.58643503]\n [-0.52310138  0.5758897 ]\n [-0.52827611  0.56157404]\n [-0.51776051  0.53149603]\n [-0.51843534  0.51393076]\n [-0.5128784   0.49097425]\n [-0.52283764  0.48330614]\n [-0.52074806  0.46478541]\n [-0.52726521  0.45432077]\n [-0.52511899  0.43673686]\n [-0.5186232   0.41623912]\n [-0.52027373  0.40283896]\n [-0.51760999  0.38651771]\n [-0.52752307  0.37976227]\n [-0.52338912  0.36308795]\n [-0.52133143  0.34834252]\n [-0.51387484  0.3305354 ]\n [-0.52381697  0.32414777]\n [-0.51650326  0.30728715]\n [-0.51744651  0.29574504]\n [-0.52515931  0.28811226]\n [-0.52833762  0.27797187]\n [-0.52953651  0.26690837]\n [-0.52420639  0.25284715]\n [-0.53308006  0.24575327]\n [-0.52630409  0.23157934]\n [-0.52842117  0.22158538]\n [-0.53406548  0.21307052]\n [-0.5227406   0.19804869]\n [-0.5289409   0.18990919]\n [-0.51702385  0.17550595]\n [-0.52857968  0.16919969]\n [-0.52283397  0.15735516]\n [-0.52068829  0.14684928]\n [-0.51930367  0.13672124]\n [-0.52063936  0.12739964]\n [-0.5227835   0.11829383]\n [-0.53260077  0.11078112]\n [-0.51775137  0.09829817]\n [-0.5292436   0.09094068]\n [-0.53173848  0.08184238]\n [-0.52912237  0.07201039]\n [-0.53029854  0.06276497]\n [-0.53230818  0.05360061]\n [-0.5511007   0.04579293]\n [-0.52986311  0.03472906]\n [-0.52739195  0.02533245]\n [-0.53974816  0.0164908 ]\n [-0.53595409  0.00701602]\n [-0.53599491 -0.00233874]\n [-0.54087127 -0.01180186]\n [-0.53758521 -0.02112178]\n [-0.54212666 -0.03078418]\n [-0.53851512 -0.04001859]\n [-0.54968431 -0.05050889]\n [-0.53679044 -0.05878812]\n [-0.52774664 -0.06713785]\n [-0.53837038 -0.07805999]\n [-0.54284801 -0.08840842]\n [-0.55303085 -0.10000427]\n [-0.54629738 -0.10866531]\n [-0.54138605 -0.11754644]\n [-0.53730534 -0.12651862]\n [-0.54567702 -0.13858431]\n [-0.5402809  -0.14729748]\n [-0.54242816 -0.15810339]\n [-0.54531637 -0.16932524]\n [-0.54227818 -0.17881653]\n [-0.54096302 -0.18891275]], 0)\nshow_circle_in_rviz(<__main__.Circle object at 0x122b4d198>, [[ 6.90674088e-01 -2.51384814e-01]\n [ 6.76991318e-01 -2.33106809e-01]\n [ 6.98075508e-01 -2.26818486e-01]\n [ 6.82801582e-01 -2.08753396e-01]\n [ 6.88263393e-01 -1.97356356e-01]\n [ 6.80977691e-01 -1.82467426e-01]\n [ 6.98612950e-01 -1.74183775e-01]\n [ 7.00572058e-01 -1.61739807e-01]\n [ 6.99375508e-01 -1.48656857e-01]\n [ 6.74377852e-01 -1.31085778e-01]\n [ 6.90350210e-01 -1.21727371e-01]\n [ 6.68664992e-01 -1.05906134e-01]\n [ 6.83284965e-01 -9.60294423e-02]\n [ 6.85849375e-01 -8.42117174e-02]\n [ 6.65335177e-01 -6.99295478e-02]\n [ 6.77412402e-01 -5.92659085e-02]\n [ 6.77346010e-01 -4.73646499e-02]\n [ 7.07029715e-01 -3.70538601e-02]\n [ 6.78586391e-01 -2.36967617e-02]\n [ 6.99893375e-01 -1.22166871e-02]\n [ 6.66999996e-01 -2.64917070e-09]\n [ 6.86895343e-01  1.19898001e-02]\n [ 6.84582719e-01  2.39061527e-02]\n [ 6.76072181e-01  3.54314391e-02]\n [ 6.86324090e-01  4.79924530e-02]\n [ 6.66454283e-01  5.83071920e-02]\n [ 6.75280387e-01  7.09748261e-02]\n [ 6.73938857e-01  8.27492841e-02]\n [ 6.77343374e-01  9.51944007e-02]\n [ 6.74591165e-01  1.06844742e-01]\n [ 6.68684484e-01  1.17907114e-01]\n [ 6.67506492e-01  1.29750116e-01]\n [ 6.65140376e-01  1.41379949e-01]\n [ 6.73289700e-01  1.55441173e-01]\n [ 6.55919911e-01  1.63539199e-01]\n [ 6.60693281e-01  1.77032229e-01]\n [ 6.53657961e-01  1.87433402e-01]\n [ 6.39767911e-01  1.95596677e-01]\n [ 6.58131083e-01  2.13839749e-01]\n [ 6.48625734e-01  2.23339749e-01]\n [ 6.56845144e-01  2.39072078e-01]\n [ 6.33901129e-01  2.43331843e-01]\n [ 6.40684030e-01  2.58853148e-01]\n [ 6.29625335e-01  2.67260096e-01]\n [ 6.42222466e-01  2.85935862e-01]\n [ 6.22633429e-01  2.90338734e-01]\n [ 6.35447407e-01  3.09928407e-01]\n [ 6.37069642e-01  3.24603194e-01]\n [ 6.21595103e-01  3.30507977e-01]\n [ 6.38472404e-01  3.53911030e-01]\n [ 6.37394699e-01  3.67999999e-01]\n [ 6.33446655e-01  3.80613147e-01]\n [ 6.42820472e-01  4.01678809e-01]\n [ 6.43260343e-01  4.17738149e-01]\n [ 6.37529889e-01  4.30019338e-01]\n [ 6.49587558e-01  4.54846103e-01]\n [ 6.49640626e-01  4.71991540e-01]\n [ 6.47693391e-01  4.88071976e-01]\n [ 6.55624962e-01  5.12230357e-01]\n [ 6.49694045e-01  5.26111861e-01]\n [ 6.49605681e-01  5.45083885e-01]\n [ 6.48295551e-01  5.63554722e-01]\n [ 6.60655750e-01  5.94857107e-01]\n [ 6.61143736e-01  6.16526505e-01]\n [ 6.55318569e-01  6.32833783e-01]\n [ 6.54073782e-01  6.54073780e-01]\n [ 6.52284218e-01  6.75460079e-01]\n [ 6.58128401e-01  7.05756302e-01]\n [ 6.55748008e-01  7.28281942e-01]\n [ 6.63931716e-01  7.63766067e-01]\n [ 6.62071221e-01  7.89025753e-01]\n [ 6.57639783e-01  8.12117495e-01]\n [ 7.43103413e-01  9.51128992e-01]\n [ 7.51666937e-01  9.97495714e-01]\n [ 7.35907122e-01  1.01288925e+00]\n [ 6.22903992e-01  8.89599091e-01]\n [ 6.18467323e-01  9.16915510e-01]\n [ 6.14897444e-01  9.46859027e-01]\n [ 6.22655112e-01  9.96456472e-01]\n [ 6.32466781e-01  1.05260148e+00]\n [ 6.71000005e-01  1.16220610e+00]\n [ 6.72430928e-01  1.21309750e+00]\n [ 6.79794803e-01  1.27850807e+00]\n [ 6.81893721e-01  1.33829178e+00]\n [ 6.77283405e-01  1.38863676e+00]\n [ 6.78302320e-01  1.45462401e+00]\n [ 6.74776108e-01  1.51557195e+00]\n [ 6.67368747e-01  1.57222224e+00]\n [ 6.70171210e-01  1.65873195e+00]\n [ 6.57605203e-01  1.71312012e+00]\n [ 6.48812198e-01  1.78259686e+00]\n [ 6.39415853e-01  1.85699847e+00]\n [ 6.22669278e-01  1.91637898e+00]\n [ 6.07548424e-01  1.98720135e+00]\n [ 5.87107601e-01  2.04748752e+00]\n [ 5.71213638e-01  2.13179831e+00]\n [ 5.49404604e-01  2.20354151e+00]\n [ 5.25035787e-01  2.27417984e+00]\n [ 5.00651351e-01  2.35537941e+00]\n [ 4.69962568e-01  2.41774781e+00]\n [ 4.37767041e-01  2.48270025e+00]\n [ 3.94684157e-01  2.49193769e+00]\n [ 3.57257339e-01  2.54201805e+00]\n [ 3.23806854e-01  2.63719519e+00]\n [ 2.82644965e-01  2.68918720e+00]\n [ 2.37325092e-01  2.71263821e+00]\n [ 1.92179094e-01  2.74828907e+00]\n [ 1.46331334e-01  2.79216818e+00]\n [ 9.84863809e-02  2.82028094e+00]\n [ 4.99313360e-02  2.86056432e+00]\n [-0.00000000e+00  2.89700007e+00]\n [-5.11006457e-02  2.92755402e+00]\n [-1.03546807e-01  2.96519259e+00]\n [-1.56536842e-01  2.98690088e+00]\n [-2.11431865e-01  3.02361654e+00]\n [-2.67045187e-01  3.05234045e+00]\n [-3.22052206e-01  3.06412205e+00]\n [-3.80110478e-01  3.09575141e+00]\n [-4.35890149e-01  3.10151956e+00]\n [-4.94645770e-01  3.12307047e+00]\n [-5.51680270e-01  3.12873428e+00]\n [-6.07726641e-01  3.12648252e+00]\n [-6.60535453e-01  3.10757497e+00]\n [-7.19168529e-01  3.11506112e+00]\n [-7.83101175e-01  3.14084725e+00]\n [-8.46855937e-01  3.16050937e+00]\n [-9.02987986e-01  3.14909334e+00]\n [-9.63072372e-01  3.15006778e+00]\n [-1.02037413e+00  3.14038866e+00]\n [-1.07274710e+00  3.11548378e+00]\n [-1.13995312e+00  3.13199545e+00]\n [-1.20483305e+00  3.13869738e+00]\n [-1.23882398e+00  3.06619693e+00]\n [-1.29800882e+00  3.05791715e+00]\n [-1.35931387e+00  3.05306892e+00]], 1)\n"
    }
   ],
   "source": [
    "# lastly start the wallfollowing\n",
    "handle_scan(scan_message, delta_time)"
   ]
  },
  {
   "cell_type": "code",
   "execution_count": 111,
   "metadata": {},
   "outputs": [],
   "source": [
    "\n"
   ]
  },
  {
   "cell_type": "code",
   "execution_count": 57,
   "metadata": {},
   "outputs": [
    {
     "ename": "NameError",
     "evalue": "name 'rosbag_pandas' is not defined",
     "output_type": "error",
     "traceback": [
      "\u001b[0;31m---------------------------------------------------------------------------\u001b[0m",
      "\u001b[0;31mNameError\u001b[0m                                 Traceback (most recent call last)",
      "\u001b[0;32m<ipython-input-57-11a41194d4f7>\u001b[0m in \u001b[0;36m<module>\u001b[0;34m\u001b[0m\n\u001b[0;32m----> 1\u001b[0;31m \u001b[0mdf_include\u001b[0m \u001b[0;34m=\u001b[0m \u001b[0mrosbag_pandas\u001b[0m\u001b[0;34m.\u001b[0m\u001b[0mbag_to_dataframe\u001b[0m\u001b[0;34m(\u001b[0m\u001b[0;34m'samples/first_test/2020-01-15-10-54-28.bag'\u001b[0m\u001b[0;34m,\u001b[0m \u001b[0minclude\u001b[0m\u001b[0;34m=\u001b[0m\u001b[0;34m[\u001b[0m\u001b[0;34m'/scan'\u001b[0m\u001b[0;34m]\u001b[0m\u001b[0;34m)\u001b[0m\u001b[0;34m\u001b[0m\u001b[0;34m\u001b[0m\u001b[0m\n\u001b[0m",
      "\u001b[0;31mNameError\u001b[0m: name 'rosbag_pandas' is not defined"
     ]
    }
   ],
   "source": [
    "df_include = rosbag_pandas.bag_to_dataframe('samples/first_test/2020-01-15-10-54-28.bag', include=['/scan'])"
   ]
  },
  {
   "cell_type": "code",
   "execution_count": null,
   "metadata": {},
   "outputs": [],
   "source": []
  }
 ]
}